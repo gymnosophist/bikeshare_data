{
 "cells": [
  {
   "cell_type": "code",
   "execution_count": 2,
   "metadata": {},
   "outputs": [],
   "source": [
    "%%capture\n",
    "!pip install --upgrade pandas google-cloud-bigquery[pandas] six==1.13\n"
   ]
  },
  {
   "cell_type": "code",
   "execution_count": null,
   "metadata": {},
   "outputs": [],
   "source": [
    "import six\n",
    "import pandas as pd \n",
    "from google.cloud import bigquery"
   ]
  },
  {
   "cell_type": "code",
   "execution_count": 3,
   "metadata": {},
   "outputs": [],
   "source": [
    "creds = {\n",
    "  \"type\": \"service_account\",\n",
    "  \"project_id\": \"my-project-1563213739189\",\n",
    "  \"client_email\": \"bq-sandbox@my-project-1563213739189.iam.gserviceaccount.com\",\n",
    "  \"client_id\": \"102699358279752644267\",\n",
    "  \"auth_uri\": \"https://accounts.google.com/o/oauth2/auth\",\n",
    "  \"token_uri\": \"https://oauth2.googleapis.com/token\",\n",
    "  \"auth_provider_x509_cert_url\": \"https://www.googleapis.com/oauth2/v1/certs\",\n",
    "  \"client_x509_cert_url\": \"https://www.googleapis.com/robot/v1/metadata/x509/bq-sandbox%40my-project-1563213739189.iam.gserviceaccount.com\"\n",
    "}\n"
   ]
  },
  {
   "cell_type": "code",
   "execution_count": 7,
   "metadata": {
    "collapsed": true,
    "jupyter": {
     "outputs_hidden": true
    }
   },
   "outputs": [
    {
     "ename": "NameError",
     "evalue": "name 'launch_browser' is not defined",
     "output_type": "error",
     "traceback": [
      "\u001b[0;31m---------------------------------------------------------------------------\u001b[0m",
      "\u001b[0;31mNameError\u001b[0m                                 Traceback (most recent call last)",
      "\u001b[0;32m<ipython-input-7-eb4b97ba5f84>\u001b[0m in \u001b[0;36m<module>\u001b[0;34m\u001b[0m\n\u001b[1;32m      4\u001b[0m scopes = ['https://www.googleapis.com/auth/bigquery'])\n\u001b[1;32m      5\u001b[0m \u001b[0;31m# token = 4/xgE9ITg9Mx37MvBQdywfEJqaBYoSvYFl3vtJtTzm7gG1Xh224us15Tk\u001b[0m\u001b[0;34m\u001b[0m\u001b[0;34m\u001b[0m\u001b[0;34m\u001b[0m\u001b[0m\n\u001b[0;32m----> 6\u001b[0;31m \u001b[0;32mif\u001b[0m \u001b[0mlaunch_browser\u001b[0m\u001b[0;34m:\u001b[0m\u001b[0;34m\u001b[0m\u001b[0;34m\u001b[0m\u001b[0m\n\u001b[0m\u001b[1;32m      7\u001b[0m     \u001b[0mappflow_run_local_server\u001b[0m\u001b[0;34m(\u001b[0m\u001b[0;34m)\u001b[0m\u001b[0;34m\u001b[0m\u001b[0;34m\u001b[0m\u001b[0m\n\u001b[1;32m      8\u001b[0m \u001b[0;32melse\u001b[0m\u001b[0;34m:\u001b[0m\u001b[0;34m\u001b[0m\u001b[0;34m\u001b[0m\u001b[0m\n",
      "\u001b[0;31mNameError\u001b[0m: name 'launch_browser' is not defined"
     ]
    }
   ],
   "source": [
    "from google_auth_oauthlib import flow \n",
    "appflow = flow.InstalledAppFlow.from_client_secrets_file(\n",
    "'client_secrets.json',\n",
    "scopes = ['https://www.googleapis.com/auth/bigquery'])\n",
    "if launch_browser: \n",
    "    appflow_run_local_server()\n",
    "else: \n",
    "    appflow.run_console()\n",
    "    \n",
    "credentials = appflow.credentials"
   ]
  },
  {
   "cell_type": "code",
   "execution_count": 8,
   "metadata": {},
   "outputs": [],
   "source": [
    "appflow = flow.InstalledAppFlow.from_client_secrets_file(\n",
    "    'client_secrets.json',\n",
    "    scopes=['https://www.googleapis.com/auth/bigquery'])"
   ]
  },
  {
   "cell_type": "code",
   "execution_count": 10,
   "metadata": {},
   "outputs": [
    {
     "name": "stdout",
     "output_type": "stream",
     "text": [
      "Please visit this URL to authorize this application: https://accounts.google.com/o/oauth2/auth?response_type=code&client_id=852101288706-5jh5f21q27bf6oslm4jm76qaqdce0jgf.apps.googleusercontent.com&redirect_uri=http%3A%2F%2Flocalhost%3A8080%2F&scope=https%3A%2F%2Fwww.googleapis.com%2Fauth%2Fbigquery&state=3k2X7U44hXpFw6XL7PYeITjnoAr1ho&access_type=offline\n"
     ]
    }
   ],
   "source": [
    "creds = appflow.run_local_server()"
   ]
  },
  {
   "cell_type": "code",
   "execution_count": 11,
   "metadata": {},
   "outputs": [],
   "source": [
    "creds = appflow.credentials"
   ]
  },
  {
   "cell_type": "code",
   "execution_count": 12,
   "metadata": {},
   "outputs": [],
   "source": [
    "from google.cloud import bigquery\n",
    "project = 'my-project-1563213739189' # could use json dictionary from above \n",
    "client = bigquery.Client(project=project, credentials=creds)"
   ]
  },
  {
   "cell_type": "code",
   "execution_count": 13,
   "metadata": {},
   "outputs": [
    {
     "name": "stdout",
     "output_type": "stream",
     "text": [
      "William-3901134\n"
     ]
    }
   ],
   "source": [
    "query_string = \"\"\" SELECT name, SUM(number) as total \n",
    "FROM `bigquery-public-data.usa_names.usa_1910_current`\n",
    "WHERE name = 'William'\n",
    "GROUP BY name;\n",
    "\"\"\"\n",
    "\n",
    "query_job = client.query(query_string)\n",
    "for row in query_job.result(): \n",
    "    print('{}-{}'.format(row['name'], row['total']))"
   ]
  },
  {
   "cell_type": "markdown",
   "metadata": {},
   "source": [
    "## Getting data into a pandas df "
   ]
  },
  {
   "cell_type": "code",
   "execution_count": 14,
   "metadata": {},
   "outputs": [],
   "source": [
    "%%capture \n",
    "!pip install --upgrade google-cloud-bigquery[bqstorage, pandas]"
   ]
  },
  {
   "cell_type": "code",
   "execution_count": 15,
   "metadata": {},
   "outputs": [],
   "source": [
    "%load_ext google.cloud.bigquery"
   ]
  },
  {
   "cell_type": "code",
   "execution_count": 21,
   "metadata": {},
   "outputs": [],
   "source": [
    "s = \"\"\" \n",
    "SELECT * FROM `bigquery-public-data.austin_bikeshare.bikeshare_trips`;\n",
    "\"\"\""
   ]
  },
  {
   "cell_type": "code",
   "execution_count": 22,
   "metadata": {},
   "outputs": [],
   "source": [
    "execute = client.query(s)\n",
    "df = execute.result().to_dataframe()"
   ]
  },
  {
   "cell_type": "code",
   "execution_count": 23,
   "metadata": {},
   "outputs": [],
   "source": [
    "s2 = '''select * from `bigquery-public-data.austin_bikeshare.bikeshare_stations`'''\n",
    "ex = client.query(s2)\n",
    "df2 = ex.result().to_dataframe()"
   ]
  },
  {
   "cell_type": "markdown",
   "metadata": {},
   "source": [
    "### Exploratory data analysis "
   ]
  },
  {
   "cell_type": "code",
   "execution_count": 24,
   "metadata": {},
   "outputs": [],
   "source": [
    "df = df.dropna(subset = ['end_station_id'])"
   ]
  },
  {
   "cell_type": "code",
   "execution_count": 80,
   "metadata": {},
   "outputs": [],
   "source": [
    "df = df.merge(df2[['station_id','latitude','longitude']].add_prefix('ending_'), left_on = 'end_station_id', right_on = 'ending_station_id')"
   ]
  },
  {
   "cell_type": "code",
   "execution_count": 82,
   "metadata": {},
   "outputs": [],
   "source": [
    "df.to_csv('austin_bike_trips_intermediate.csv')"
   ]
  },
  {
   "cell_type": "code",
   "execution_count": 92,
   "metadata": {},
   "outputs": [
    {
     "data": {
      "text/plain": [
       "count    1.166411e+06\n",
       "mean     2.877973e+01\n",
       "std      1.123899e+02\n",
       "min      0.000000e+00\n",
       "25%      6.000000e+00\n",
       "50%      1.200000e+01\n",
       "75%      2.600000e+01\n",
       "max      3.423800e+04\n",
       "Name: duration_minutes, dtype: float64"
      ]
     },
     "execution_count": 92,
     "metadata": {},
     "output_type": "execute_result"
    }
   ],
   "source": [
    "df.duration_minutes.describe()"
   ]
  },
  {
   "cell_type": "code",
   "execution_count": 85,
   "metadata": {},
   "outputs": [
    {
     "data": {
      "text/plain": [
       "95"
      ]
     },
     "execution_count": 85,
     "metadata": {},
     "output_type": "execute_result"
    }
   ],
   "source": [
    "df.end_station_id.nunique()"
   ]
  },
  {
   "cell_type": "markdown",
   "metadata": {},
   "source": [
    "### Compute distance matrix between all stations --> map in distance "
   ]
  },
  {
   "cell_type": "code",
   "execution_count": 87,
   "metadata": {},
   "outputs": [],
   "source": [
    "# Find nunique stations --> 95 \n",
    "# Create matrix of all 95 stations, fill values by api call \n",
    "unique_stations = df.end_station_id.unique()\n"
   ]
  },
  {
   "cell_type": "code",
   "execution_count": 99,
   "metadata": {},
   "outputs": [],
   "source": [
    "d_m = pd.DataFrame(index = unique_stations, columns = unique_stations)"
   ]
  },
  {
   "cell_type": "code",
   "execution_count": 102,
   "metadata": {},
   "outputs": [],
   "source": [
    "d_m = d_m.fillna(0)"
   ]
  },
  {
   "cell_type": "markdown",
   "metadata": {},
   "source": [
    "### Now that we have an empty dataframe, we need to map in the values "
   ]
  },
  {
   "cell_type": "code",
   "execution_count": 6,
   "metadata": {},
   "outputs": [],
   "source": [
    "# There are probably several ways to do this \n",
    "# We could concat the starting and ending stations to make the requests part easier to handle \n",
    "\n",
    "df.head()\n",
    "df['start_coords'] = df['starting_latitude'].astype('str') + ',' + df['starting_longitude'].astype('str')\n",
    "df['end_coords'] = df['ending_latitude'].astype('str') + ',' + df['ending_longitude'].astype('str')"
   ]
  },
  {
   "cell_type": "code",
   "execution_count": 7,
   "metadata": {},
   "outputs": [],
   "source": [
    "trip_df = df[['start_station_name','end_station_name','start_coords','end_coords']]"
   ]
  },
  {
   "cell_type": "code",
   "execution_count": 8,
   "metadata": {},
   "outputs": [],
   "source": [
    "trip_df = trip_df.drop_duplicates()"
   ]
  },
  {
   "cell_type": "code",
   "execution_count": 73,
   "metadata": {},
   "outputs": [
    {
     "data": {
      "text/plain": [
       "<matplotlib.legend.Legend at 0x1a244f1d30>"
      ]
     },
     "execution_count": 73,
     "metadata": {},
     "output_type": "execute_result"
    },
    {
     "data": {
      "image/png": "[encoded data removed]",
      "text/plain": [
       "<Figure size 864x576 with 1 Axes>"
      ]
     },
     "metadata": {
      "needs_background": "light"
     },
     "output_type": "display_data"
    }
   ],
   "source": [
    "import matplotlib.pyplot as plt\n",
    "plt.figure(figsize=(12,8))\n",
    "ax = df.groupby('subscriber_type')['duration_minutes'].hist(bins = np.arange(61), alpha = .5, density = True)\n",
    "plt.legend([i for i in df.subscriber_type.unique()])"
   ]
  },
  {
   "cell_type": "code",
   "execution_count": 63,
   "metadata": {},
   "outputs": [],
   "source": [
    "x = df.groupby('subscriber_type')['trip_id'].count().sort_values(ascending = False).iloc[:10]/len(df)"
   ]
  },
  {
   "cell_type": "code",
   "execution_count": 68,
   "metadata": {},
   "outputs": [
    {
     "data": {
      "text/plain": [
       "subscriber_type\n",
       "Walk Up                               0.311145\n",
       "U.T. Student Membership               0.545928\n",
       "Local365                              0.708577\n",
       "24-Hour Kiosk (Austin B-cycle)        0.786766\n",
       "Local30                               0.839549\n",
       "Weekender                             0.877863\n",
       "Annual Membership (Austin B-cycle)    0.901778\n",
       "Explorer                              0.919293\n",
       "24 Hour Walk Up Pass                  0.932109\n",
       "Local365+Guest Pass                   0.943621\n",
       "Name: trip_id, dtype: float64"
      ]
     },
     "execution_count": 68,
     "metadata": {},
     "output_type": "execute_result"
    }
   ],
   "source": [
    "x.cumsum()"
   ]
  },
  {
   "cell_type": "code",
   "execution_count": 69,
   "metadata": {},
   "outputs": [
    {
     "data": {
      "text/plain": [
       "Index(['Walk Up', 'U.T. Student Membership', 'Local365',\n",
       "       '24-Hour Kiosk (Austin B-cycle)', 'Local30', 'Weekender'],\n",
       "      dtype='object', name='subscriber_type')"
      ]
     },
     "execution_count": 69,
     "metadata": {},
     "output_type": "execute_result"
    }
   ],
   "source": [
    "x.index[:6]"
   ]
  },
  {
   "cell_type": "code",
   "execution_count": 70,
   "metadata": {},
   "outputs": [],
   "source": [
    "df = df.loc[df['subscriber_type'].isin(x.index[:6])]\n",
    "\n",
    "import seaborn as sns \n",
    "\n",
    "\n",
    "top_stations = df.groupby(\"start_station_name\").count().iloc[:20,0].sort_values(ascending = False).index\n",
    "\n",
    "import matplotlib.pyplot as plt \n",
    "\n",
    "top_station_trips = df[df.start_station_name.isin(top_stations)]\n",
    "\n",
    "from scipy import stats \n",
    "\n",
    "import numpy as np\n",
    "df = df[np.abs(stats.zscore(df.duration_minutes) < 3).all(axis = 1)]"
   ]
  },
  {
   "cell_type": "code",
   "execution_count": 149,
   "metadata": {},
   "outputs": [
    {
     "data": {
      "text/plain": [
       "[Text(0, 0, '11th & San Jacinto'),\n",
       " Text(0, 0, '13th & San Antonio'),\n",
       " Text(0, 0, '10th & Red River'),\n",
       " Text(0, 0, '11th & Salina'),\n",
       " Text(0, 0, '11th & Salina '),\n",
       " Text(0, 0, '11th/Congress @ The Texas Capitol'),\n",
       " Text(0, 0, '22nd & Pearl'),\n",
       " Text(0, 0, '21st & University'),\n",
       " Text(0, 0, '21st & Speedway @PCL'),\n",
       " Text(0, 0, '17th & Guadalupe'),\n",
       " Text(0, 0, '11th/San Jacinto'),\n",
       " Text(0, 0, '10th/Red River'),\n",
       " Text(0, 0, '11th/Salina '),\n",
       " Text(0, 0, '21st/University'),\n",
       " Text(0, 0, '21st/Speedway @ PCL'),\n",
       " Text(0, 0, '22nd/Pearl'),\n",
       " Text(0, 0, '13th/San Antonio'),\n",
       " Text(0, 0, '17th/Guadalupe'),\n",
       " Text(0, 0, '21st/Guadalupe'),\n",
       " Text(0, 0, '12th/San Jacinto @ State Capitol Visitors Garage')]"
      ]
     },
     "execution_count": 149,
     "metadata": {},
     "output_type": "execute_result"
    },
    {
     "data": {
      "image/png": "[encoded data removed]",
      "text/plain": [
       "<Figure size 432x288 with 1 Axes>"
      ]
     },
     "metadata": {
      "needs_background": "light"
     },
     "output_type": "display_data"
    }
   ],
   "source": [
    "ax = sns.boxplot(y = 'duration_minutes', x = 'start_station_name', data = top_station_trips)\n",
    "ax.set_xticklabels(ax.get_xticklabels(), rotation = 45)"
   ]
  },
  {
   "cell_type": "markdown",
   "metadata": {},
   "source": [
    "### "
   ]
  },
  {
   "cell_type": "markdown",
   "metadata": {},
   "source": [
    "### "
   ]
  },
  {
   "cell_type": "code",
   "execution_count": 1,
   "metadata": {},
   "outputs": [],
   "source": [
    "import pandas as pd \n",
    "import seaborn as sns \n",
    "import numpy as np \n",
    "df = pd.read_csv('austin_bike_trips_intermediate.csv')"
   ]
  },
  {
   "cell_type": "code",
   "execution_count": 12,
   "metadata": {},
   "outputs": [
    {
     "data": {
      "text/plain": [
       "7047"
      ]
     },
     "execution_count": 12,
     "metadata": {},
     "output_type": "execute_result"
    }
   ],
   "source": [
    "trip_df['all_coords'] = trip_df['start_coords'] + '--' + trip_df['end_coords']\n",
    "trip_df['all_coords'].nunique() # See how many unique trip destinations and endpoints there were "
   ]
  },
  {
   "cell_type": "markdown",
   "metadata": {},
   "source": [
    "## Now we can try requests"
   ]
  },
  {
   "cell_type": "code",
   "execution_count": 24,
   "metadata": {},
   "outputs": [
    {
     "data": {
      "text/html": [
       "<div>\n",
       "<style scoped>\n",
       "    .dataframe tbody tr th:only-of-type {\n",
       "        vertical-align: middle;\n",
       "    }\n",
       "\n",
       "    .dataframe tbody tr th {\n",
       "        vertical-align: top;\n",
       "    }\n",
       "\n",
       "    .dataframe thead th {\n",
       "        text-align: right;\n",
       "    }\n",
       "</style>\n",
       "<table border=\"1\" class=\"dataframe\">\n",
       "  <thead>\n",
       "    <tr style=\"text-align: right;\">\n",
       "      <th></th>\n",
       "      <th>start_station_name</th>\n",
       "      <th>end_station_name</th>\n",
       "      <th>start_coords</th>\n",
       "      <th>end_coords</th>\n",
       "      <th>all_coords</th>\n",
       "    </tr>\n",
       "  </thead>\n",
       "  <tbody>\n",
       "    <tr>\n",
       "      <th>0</th>\n",
       "      <td>Capital Metro HQ - East 5th at Broadway</td>\n",
       "      <td>East 6th &amp; Pedernales St.</td>\n",
       "      <td>30.2563,-97.71007</td>\n",
       "      <td>30.25895,-97.71475</td>\n",
       "      <td>30.2563,-97.71007--30.25895,-97.71475</td>\n",
       "    </tr>\n",
       "    <tr>\n",
       "      <th>137</th>\n",
       "      <td>East 5th/Broadway @ Capital Metro HQ</td>\n",
       "      <td>East 6th/Pedernales</td>\n",
       "      <td>30.2563,-97.71007</td>\n",
       "      <td>30.25895,-97.71475</td>\n",
       "      <td>30.2563,-97.71007--30.25895,-97.71475</td>\n",
       "    </tr>\n",
       "    <tr>\n",
       "      <th>140</th>\n",
       "      <td>Zilker Park West</td>\n",
       "      <td>East 6th &amp; Pedernales St.</td>\n",
       "      <td>30.26587,-97.76826</td>\n",
       "      <td>30.25895,-97.71475</td>\n",
       "      <td>30.26587,-97.76826--30.25895,-97.71475</td>\n",
       "    </tr>\n",
       "    <tr>\n",
       "      <th>142</th>\n",
       "      <td>Toomey Rd @ South Lamar</td>\n",
       "      <td>East 6th &amp; Pedernales St.</td>\n",
       "      <td>30.263040000000004,-97.75824</td>\n",
       "      <td>30.25895,-97.71475</td>\n",
       "      <td>30.263040000000004,-97.75824--30.25895,-97.71475</td>\n",
       "    </tr>\n",
       "    <tr>\n",
       "      <th>151</th>\n",
       "      <td>State Capitol @ 14th &amp; Colorado</td>\n",
       "      <td>East 6th &amp; Pedernales St.</td>\n",
       "      <td>30.27654,-97.74155</td>\n",
       "      <td>30.25895,-97.71475</td>\n",
       "      <td>30.27654,-97.74155--30.25895,-97.71475</td>\n",
       "    </tr>\n",
       "  </tbody>\n",
       "</table>\n",
       "</div>"
      ],
      "text/plain": [
       "                          start_station_name           end_station_name  \\\n",
       "0    Capital Metro HQ - East 5th at Broadway  East 6th & Pedernales St.   \n",
       "137     East 5th/Broadway @ Capital Metro HQ        East 6th/Pedernales   \n",
       "140                         Zilker Park West  East 6th & Pedernales St.   \n",
       "142                  Toomey Rd @ South Lamar  East 6th & Pedernales St.   \n",
       "151          State Capitol @ 14th & Colorado  East 6th & Pedernales St.   \n",
       "\n",
       "                     start_coords          end_coords  \\\n",
       "0               30.2563,-97.71007  30.25895,-97.71475   \n",
       "137             30.2563,-97.71007  30.25895,-97.71475   \n",
       "140            30.26587,-97.76826  30.25895,-97.71475   \n",
       "142  30.263040000000004,-97.75824  30.25895,-97.71475   \n",
       "151            30.27654,-97.74155  30.25895,-97.71475   \n",
       "\n",
       "                                           all_coords  \n",
       "0               30.2563,-97.71007--30.25895,-97.71475  \n",
       "137             30.2563,-97.71007--30.25895,-97.71475  \n",
       "140            30.26587,-97.76826--30.25895,-97.71475  \n",
       "142  30.263040000000004,-97.75824--30.25895,-97.71475  \n",
       "151            30.27654,-97.74155--30.25895,-97.71475  "
      ]
     },
     "execution_count": 24,
     "metadata": {},
     "output_type": "execute_result"
    }
   ],
   "source": [
    "trip_df.head()"
   ]
  },
  {
   "cell_type": "code",
   "execution_count": 34,
   "metadata": {},
   "outputs": [],
   "source": [
    "url = 'https://maps.googleapis.com/maps/api/distancematrix/json?'\n",
    "origin, dest = \"origins=\"  + trip_df['start_coords'].unique(), \"&destinations=\" + trip_df['end_coords'].unique()\n",
    "r = url + origin + dest + \"&units=imperial\" + '&transit_mode=bicycling' \"&key=\" + api_key"
   ]
  },
  {
   "cell_type": "markdown",
   "metadata": {},
   "source": [
    "### "
   ]
  },
  {
   "cell_type": "code",
   "execution_count": 135,
   "metadata": {},
   "outputs": [],
   "source": [
    "itr = zip(trip_df.start_coords.unique(), trip_df.end_coords.unique())"
   ]
  },
  {
   "cell_type": "code",
   "execution_count": 136,
   "metadata": {},
   "outputs": [],
   "source": [
    "l = [\"{}\".format(lat, lon) for (lat, lon) in itr]"
   ]
  },
  {
   "cell_type": "code",
   "execution_count": 137,
   "metadata": {
    "collapsed": true,
    "jupyter": {
     "outputs_hidden": true
    }
   },
   "outputs": [
    {
     "data": {
      "text/plain": [
       "['30.2563,-97.71007',\n",
       " '30.26587,-97.76826',\n",
       " '30.263040000000004,-97.75824',\n",
       " '30.27654,-97.74155',\n",
       " '30.264609999999998,-97.73049',\n",
       " '30.268959999999996,-97.72843',\n",
       " '30.271929999999998,-97.73854',\n",
       " '30.26694,-97.74939',\n",
       " '30.25542,-97.71665',\n",
       " '30.27624,-97.74831',\n",
       " '30.258020000000002,-97.7391',\n",
       " '30.268890000000003,-97.74525',\n",
       " '30.27595,-97.74739',\n",
       " '30.269109999999998,-97.7462',\n",
       " '30.276159999999997,-97.74488000000001',\n",
       " '30.26455,-97.73165',\n",
       " '30.26025,-97.71002',\n",
       " '30.272170000000003,-97.75246',\n",
       " '30.27807,-97.77271999999999',\n",
       " '30.27024,-97.73578',\n",
       " '30.262690000000003,-97.72438000000001',\n",
       " '30.26888,-97.72431',\n",
       " '30.26969,-97.71873000000001',\n",
       " '30.26212,-97.73815',\n",
       " '30.266379999999998,-97.7214',\n",
       " '30.24472,-97.72336',\n",
       " '30.24258,-97.71726',\n",
       " '30.251890000000003,-97.73323',\n",
       " '30.270590000000002,-97.74441',\n",
       " '30.25495,-97.74755',\n",
       " '30.273359999999997,-97.73805',\n",
       " '30.26912,-97.73986',\n",
       " '30.26019,-97.73845',\n",
       " '30.264159999999997,-97.73289',\n",
       " '30.26735,-97.73933000000001',\n",
       " '30.26717,-97.75484',\n",
       " '30.26032,-97.71899',\n",
       " '30.25971,-97.75346',\n",
       " '30.269679999999997,-97.73074',\n",
       " '30.252259999999996,-97.74854',\n",
       " '30.26854,-97.73646',\n",
       " '30.26452,-97.7712',\n",
       " '30.2659,-97.76822',\n",
       " '30.264459999999996,-97.75665',\n",
       " '30.26822,-97.74285',\n",
       " '30.26697,-97.74929',\n",
       " '30.274659999999997,-97.77028',\n",
       " '30.267540000000004,-97.74154',\n",
       " '30.26332,-97.74508',\n",
       " '30.264059999999997,-97.76385',\n",
       " '30.25457,-97.74258',\n",
       " '30.267529999999997,-97.74805',\n",
       " '30.25579,-97.73982',\n",
       " '30.261999999999997,-97.76118000000001',\n",
       " '30.258390000000002,-97.74592',\n",
       " '30.26408,-97.74355',\n",
       " '30.266340000000003,-97.74378',\n",
       " '30.2698,-97.74186',\n",
       " '30.2726,-97.74127',\n",
       " '30.26483,-97.73899999999999',\n",
       " '30.26476,-97.74678',\n",
       " '30.2696,-97.75332',\n",
       " '30.2587,-97.74871999999999',\n",
       " '30.25103,-97.74925999999999',\n",
       " '30.24891,-97.75019',\n",
       " '30.2853,-97.7467',\n",
       " '30.293329999999997,-97.74412',\n",
       " '30.28953,-97.73695',\n",
       " '30.2898,-97.74041',\n",
       " '30.283540000000002,-97.73953',\n",
       " '30.283,-97.7375',\n",
       " '30.2856,-97.7335',\n",
       " '30.259870000000003,-97.72373',\n",
       " '30.27041,-97.75046',\n",
       " '30.28039,-97.73809',\n",
       " '30.264259999999997,-97.74023000000001',\n",
       " '30.279740000000004,-97.74254',\n",
       " '30.26217,-97.72743',\n",
       " '30.25895,-97.71475',\n",
       " '30.28395,-97.74198',\n",
       " '30.285759999999996,-97.74181',\n",
       " '30.25941,-97.74971',\n",
       " '30.267740000000003,-97.74691999999999',\n",
       " '30.2678,-97.75189',\n",
       " '30.28118,-97.75219',\n",
       " '30.294390000000003,-97.78375',\n",
       " '30.274890000000003,-97.76483',\n",
       " '30.261390000000002,-97.77234',\n",
       " '30.28728,-97.74495',\n",
       " '30.29068,-97.74292',\n",
       " '30.267509999999998,-97.74802',\n",
       " '30.26383,-97.72864',\n",
       " '30.27907,-97.73715',\n",
       " '30.27106,-97.74563',\n",
       " '30.271859999999997,-97.73997']"
      ]
     },
     "execution_count": 137,
     "metadata": {},
     "output_type": "execute_result"
    }
   ],
   "source": [
    "l"
   ]
  },
  {
   "cell_type": "code",
   "execution_count": 139,
   "metadata": {},
   "outputs": [],
   "source": [
    "test_response = requests.get(build_url(1)) "
   ]
  },
  {
   "cell_type": "code",
   "execution_count": 156,
   "metadata": {},
   "outputs": [
    {
     "data": {
      "text/plain": [
       "start_station_name    170\n",
       "start_coords           95\n",
       "dtype: int64"
      ]
     },
     "execution_count": 156,
     "metadata": {},
     "output_type": "execute_result"
    }
   ],
   "source": [
    "stations = trip_df[['start_station_name','start_coords']]\n",
    "stations = stations.drop_duplicates()\n"
   ]
  },
  {
   "cell_type": "code",
   "execution_count": 159,
   "metadata": {},
   "outputs": [],
   "source": [
    "stations = stations.drop_duplicates('start_coords')"
   ]
  },
  {
   "cell_type": "markdown",
   "metadata": {},
   "source": [
    "### Let's call the API and build the matrix "
   ]
  },
  {
   "cell_type": "code",
   "execution_count": 188,
   "metadata": {},
   "outputs": [],
   "source": [
    "import os \n",
    "os.makedirs('./dm_json_outputs', exist_ok = True)"
   ]
  },
  {
   "cell_type": "code",
   "execution_count": 192,
   "metadata": {},
   "outputs": [],
   "source": [
    "stations['start_station_name'] = stations['start_station_name'].str.replace('/', '_')"
   ]
  },
  {
   "cell_type": "code",
   "execution_count": 193,
   "metadata": {},
   "outputs": [],
   "source": [
    "for i in range(len(l) -1): \n",
    "    r = build_url(i)\n",
    "    obj = requests.get(r).json()\n",
    "    with open('./dm_json_outputs/{}_distances.json'.format(stations.iloc[i,0]), 'w') as out_file:\n",
    "        out_file.write(json.dumps(obj))\n"
   ]
  },
  {
   "cell_type": "markdown",
   "metadata": {},
   "source": [
    "### Build distance matrix from inputs"
   ]
  },
  {
   "cell_type": "code",
   "execution_count": 325,
   "metadata": {},
   "outputs": [],
   "source": [
    "dist = np.zeros((len(stations), len(stations)), dtype = float)\n",
    "\n",
    "for i, station in enumerate(stations.start_station_name): \n",
    "    try:\n",
    "        filename = f\"{station}_distances.json\"\n",
    "        row = json.load(open(filename))\n",
    "        dist[i, i + 1:] = [el['distance']['value'] for el in row['rows'][0]['elements']]\n",
    "    except: \n",
    "        pass\n",
    "\n",
    "out = dist + dist.T\n",
    "\n",
    "distances_final = pd.DataFrame(out, index = stations.start_station_name, columns = stations.start_station_name)\n",
    "\n",
    "distance_df = distances_final"
   ]
  },
  {
   "cell_type": "code",
   "execution_count": 357,
   "metadata": {},
   "outputs": [],
   "source": [
    "stacked = distance_df.stack()\n",
    "stacked.name = 'distance'"
   ]
  },
  {
   "cell_type": "code",
   "execution_count": 353,
   "metadata": {},
   "outputs": [
    {
     "data": {
      "text/plain": [
       "start_station_name                       start_station_name                     \n",
       "Capital Metro HQ - East 5th at Broadway  Capital Metro HQ - East 5th at Broadway       0.0\n",
       "                                         Zilker Park West                           6991.0\n",
       "                                         Toomey Rd @ South Lamar                    6452.0\n",
       "                                         State Capitol @ 14th & Colorado            4535.0\n",
       "                                         Waller & 6th St.                           2299.0\n",
       "                                                                                     ...  \n",
       "Main Office                              Republic Square                            1304.0\n",
       "                                         6th & Navasota St.                         1793.0\n",
       "                                         State Parking Garage @ Brazos & 18th       1197.0\n",
       "                                         8th & Guadalupe                             987.0\n",
       "                                         Main Office                                   0.0\n",
       "Name: distances, Length: 9025, dtype: float64"
      ]
     },
     "execution_count": 353,
     "metadata": {},
     "output_type": "execute_result"
    }
   ],
   "source": [
    "stacked"
   ]
  },
  {
   "cell_type": "code",
   "execution_count": 358,
   "metadata": {},
   "outputs": [],
   "source": [
    "df = df.join(stacked, on = ['start_station_name', 'end_station_name'])"
   ]
  },
  {
   "cell_type": "code",
   "execution_count": 360,
   "metadata": {},
   "outputs": [],
   "source": [
    "df = df.drop(columns = ['Unnamed: 0', 'start_coords','end_coords'])"
   ]
  },
  {
   "cell_type": "code",
   "execution_count": 367,
   "metadata": {},
   "outputs": [
    {
     "data": {
      "text/plain": [
       "6.055881766"
      ]
     },
     "execution_count": 367,
     "metadata": {},
     "output_type": "execute_result"
    }
   ],
   "source": [
    "max(df['distance'] * 0.000621371)"
   ]
  },
  {
   "cell_type": "code",
   "execution_count": 370,
   "metadata": {},
   "outputs": [
    {
     "data": {
      "text/plain": [
       "9746.0"
      ]
     },
     "execution_count": 370,
     "metadata": {},
     "output_type": "execute_result"
    }
   ],
   "source": [
    "max(df['distance'])"
   ]
  },
  {
   "cell_type": "code",
   "execution_count": 376,
   "metadata": {},
   "outputs": [
    {
     "data": {
      "text/plain": [
       "(0, 6500)"
      ]
     },
     "execution_count": 376,
     "metadata": {},
     "output_type": "execute_result"
    },
    {
     "data": {
      "image/png": "[encoded data removed]",
      "text/plain": [
       "<Figure size 864x288 with 1 Axes>"
      ]
     },
     "metadata": {
      "needs_background": "light"
     },
     "output_type": "display_data"
    }
   ],
   "source": [
    "fig, ax = plt.subplots(figsize = (12,4))\n",
    "df.groupby('subscriber_type')['distance'].hist(bins = np.linspace(0,10000, 50), alpha = .5)\n",
    "plt.legend([i for i in df.subscriber_type.unique()])\n",
    "ax.set_xlim(0, 6500)"
   ]
  },
  {
   "cell_type": "code",
   "execution_count": 386,
   "metadata": {},
   "outputs": [],
   "source": [
    "rate_df = df.groupby('subscriber_type')[['duration_minutes', 'distance']].mean().sort_values('duration_minutes', ascending = False)"
   ]
  },
  {
   "cell_type": "code",
   "execution_count": 387,
   "metadata": {},
   "outputs": [],
   "source": [
    "rate_df['rate'] = rate_df['distance'] / rate_df['duration_minutes']"
   ]
  },
  {
   "cell_type": "code",
   "execution_count": 388,
   "metadata": {},
   "outputs": [],
   "source": [
    "rate_df['rate'] = rate_df['rate'] * 0.0372823"
   ]
  },
  {
   "cell_type": "code",
   "execution_count": 391,
   "metadata": {},
   "outputs": [
    {
     "data": {
      "text/plain": [
       "<matplotlib.axes._subplots.AxesSubplot at 0x1a6f0e8f28>"
      ]
     },
     "execution_count": 391,
     "metadata": {},
     "output_type": "execute_result"
    },
    {
     "data": {
      "image/png": "[encoded data removed]",
      "text/plain": [
       "<Figure size 432x288 with 1 Axes>"
      ]
     },
     "metadata": {
      "needs_background": "light"
     },
     "output_type": "display_data"
    }
   ],
   "source": [
    "sns.scatterplot(df['duration_minutes'], df['distance'], hue = 'subscriber_type', data = df)"
   ]
  },
  {
   "cell_type": "code",
   "execution_count": 378,
   "metadata": {},
   "outputs": [
    {
     "data": {
      "text/plain": [
       "subscriber_type\n",
       "24-Hour Kiosk (Austin B-cycle)    1431.0\n",
       "Local30                           1574.0\n",
       "Local365                          1433.0\n",
       "U.T. Student Membership           1003.0\n",
       "Walk Up                           1464.0\n",
       "Weekender                         1950.0\n",
       "Name: distance, dtype: float64"
      ]
     },
     "execution_count": 378,
     "metadata": {},
     "output_type": "execute_result"
    }
   ],
   "source": [
    "df.groupby('subscriber_type')['distance'].median()"
   ]
  },
  {
   "cell_type": "code",
   "execution_count": null,
   "metadata": {},
   "outputs": [],
   "source": []
  }
 ],
 "metadata": {
  "kernelspec": {
   "display_name": "Python 3",
   "language": "python",
   "name": "python3"
  },
  "language_info": {
   "codemirror_mode": {
    "name": "ipython",
    "version": 3
   },
   "file_extension": ".py",
   "mimetype": "text/x-python",
   "name": "python",
   "nbconvert_exporter": "python",
   "pygments_lexer": "ipython3",
   "version": "3.8.2"
  }
 },
 "nbformat": 4,
 "nbformat_minor": 4
}
